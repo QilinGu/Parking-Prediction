{
 "metadata": {
  "name": ""
 },
 "nbformat": 3,
 "nbformat_minor": 0,
 "worksheets": [
  {
   "cells": [
    {
     "cell_type": "code",
     "collapsed": false,
     "input": [
      "import pandas as pd\n",
      "data_df = pd.read_csv('transactions.csv')\n",
      "# Null check\n",
      "data_df.describe"
     ],
     "language": "python",
     "metadata": {},
     "outputs": [
      {
       "metadata": {},
       "output_type": "pyout",
       "prompt_number": 43,
       "text": [
        "<bound method DataFrame.describe of <class 'pandas.core.frame.DataFrame'>\n",
        "Int64Index: 1647741 entries, 0 to 1647740\n",
        "Data columns (total 2 columns):\n",
        "entry_time    1647741  non-null values\n",
        "exit_time     1647741  non-null values\n",
        "dtypes: object(2)>"
       ]
      }
     ],
     "prompt_number": 43
    },
    {
     "cell_type": "code",
     "collapsed": false,
     "input": [
      "# Bad data. entry time is later than exit time \n",
      "entry = pd.to_datetime(data_df['entry_time'])\n",
      "exit = pd.to_datetime(data_df['exit_time'])\n",
      "n = len(data_df)\n",
      "for i in range(n):\n",
      "    if entry[i] > exit[i]:\n",
      "        print i, entry[i], exit[i]"
     ],
     "language": "python",
     "metadata": {},
     "outputs": [
      {
       "output_type": "stream",
       "stream": "stdout",
       "text": [
        "39147 2013-05-23 04:54:00 2013-05-23 01:29:00\n",
        "76712"
       ]
      },
      {
       "output_type": "stream",
       "stream": "stdout",
       "text": [
        " 2013-10-03 04:56:00 2013-10-03 00:07:00\n",
        "80339"
       ]
      },
      {
       "output_type": "stream",
       "stream": "stdout",
       "text": [
        " 2013-10-16 04:52:00 2013-10-16 00:18:00\n",
        "401072"
       ]
      },
      {
       "output_type": "stream",
       "stream": "stdout",
       "text": [
        " 2014-05-29 04:56:00 2014-05-29 02:49:00\n",
        "545688"
       ]
      },
      {
       "output_type": "stream",
       "stream": "stdout",
       "text": [
        " 2014-08-12 04:55:00 2014-08-12 02:27:00\n",
        "764117"
       ]
      },
      {
       "output_type": "stream",
       "stream": "stdout",
       "text": [
        " 2014-11-23 04:58:00 2014-11-23 02:52:00\n",
        "1222079"
       ]
      },
      {
       "output_type": "stream",
       "stream": "stdout",
       "text": [
        " 2015-07-05 04:57:00 2015-07-05 00:37:00\n",
        "1492016"
       ]
      },
      {
       "output_type": "stream",
       "stream": "stdout",
       "text": [
        " 2015-11-05 04:57:00 2015-11-05 01:35:00\n",
        "1525344"
       ]
      },
      {
       "output_type": "stream",
       "stream": "stdout",
       "text": [
        " 2015-11-20 04:50:00 2015-11-20 00:27:00\n",
        "1527518"
       ]
      },
      {
       "output_type": "stream",
       "stream": "stdout",
       "text": [
        " 2015-11-21 04:57:00 2015-11-21 01:14:00\n",
        "1543517"
       ]
      },
      {
       "output_type": "stream",
       "stream": "stdout",
       "text": [
        " 2015-12-03 04:59:00 2015-12-03 03:20:00\n",
        "1546686"
       ]
      },
      {
       "output_type": "stream",
       "stream": "stdout",
       "text": [
        " 2015-12-04 04:59:00 2015-12-04 01:43:00\n",
        "1558642"
       ]
      },
      {
       "output_type": "stream",
       "stream": "stdout",
       "text": [
        " 2015-12-10 04:53:00 2015-12-10 02:04:00\n",
        "1617591"
       ]
      },
      {
       "output_type": "stream",
       "stream": "stdout",
       "text": [
        " 2016-01-16 04:59:00 2016-01-16 04:22:00\n"
       ]
      }
     ],
     "prompt_number": 39
    },
    {
     "cell_type": "code",
     "collapsed": false,
     "input": [
      "n"
     ],
     "language": "python",
     "metadata": {},
     "outputs": [
      {
       "metadata": {},
       "output_type": "pyout",
       "prompt_number": 44,
       "text": [
        "1647741"
       ]
      }
     ],
     "prompt_number": 44
    },
    {
     "cell_type": "code",
     "collapsed": false,
     "input": [
      "ddata_df = pd.read_csv('test.csv')\n",
      "ddata_df"
     ],
     "language": "python",
     "metadata": {},
     "outputs": [
      {
       "html": [
        "<div style=\"max-height:1000px;max-width:1500px;overflow:auto;\">\n",
        "<table border=\"1\" class=\"dataframe\">\n",
        "  <thead>\n",
        "    <tr style=\"text-align: right;\">\n",
        "      <th></th>\n",
        "      <th>entry_time</th>\n",
        "      <th>exit_time</th>\n",
        "    </tr>\n",
        "  </thead>\n",
        "  <tbody>\n",
        "    <tr>\n",
        "      <th>0 </th>\n",
        "      <td> 2013-01-01 05:39:00</td>\n",
        "      <td> 2013-01-01 11:19:59</td>\n",
        "    </tr>\n",
        "    <tr>\n",
        "      <th>1 </th>\n",
        "      <td> 2013-01-01 09:04:00</td>\n",
        "      <td> 2013-01-01 12:08:00</td>\n",
        "    </tr>\n",
        "    <tr>\n",
        "      <th>2 </th>\n",
        "      <td> 2013-01-01 13:16:00</td>\n",
        "      <td> 2013-01-01 14:14:00</td>\n",
        "    </tr>\n",
        "    <tr>\n",
        "      <th>3 </th>\n",
        "      <td> 2013-01-01 13:14:00</td>\n",
        "      <td> 2013-01-01 15:08:00</td>\n",
        "    </tr>\n",
        "    <tr>\n",
        "      <th>4 </th>\n",
        "      <td> 2013-01-01 14:51:00</td>\n",
        "      <td> 2013-01-01 15:29:00</td>\n",
        "    </tr>\n",
        "    <tr>\n",
        "      <th>5 </th>\n",
        "      <td> 2013-01-01 05:48:00</td>\n",
        "      <td> 2013-01-01 16:00:00</td>\n",
        "    </tr>\n",
        "    <tr>\n",
        "      <th>6 </th>\n",
        "      <td> 2013-01-01 07:15:00</td>\n",
        "      <td> 2013-01-01 16:23:00</td>\n",
        "    </tr>\n",
        "    <tr>\n",
        "      <th>7 </th>\n",
        "      <td> 2013-01-01 07:35:00</td>\n",
        "      <td> 2013-01-01 16:27:00</td>\n",
        "    </tr>\n",
        "    <tr>\n",
        "      <th>8 </th>\n",
        "      <td> 2013-01-01 15:58:00</td>\n",
        "      <td> 2013-01-01 16:43:00</td>\n",
        "    </tr>\n",
        "    <tr>\n",
        "      <th>9 </th>\n",
        "      <td> 2013-01-01 10:10:00</td>\n",
        "      <td> 2013-01-01 16:58:00</td>\n",
        "    </tr>\n",
        "    <tr>\n",
        "      <th>10</th>\n",
        "      <td> 2013-01-01 08:03:00</td>\n",
        "      <td> 2013-01-01 17:07:00</td>\n",
        "    </tr>\n",
        "    <tr>\n",
        "      <th>11</th>\n",
        "      <td> 2013-01-01 15:26:00</td>\n",
        "      <td> 2013-01-01 17:22:00</td>\n",
        "    </tr>\n",
        "    <tr>\n",
        "      <th>12</th>\n",
        "      <td> 2013-01-01 19:34:00</td>\n",
        "      <td> 2013-01-01 20:57:00</td>\n",
        "    </tr>\n",
        "    <tr>\n",
        "      <th>13</th>\n",
        "      <td> 2013-01-01 09:10:00</td>\n",
        "      <td> 2013-01-01 21:25:00</td>\n",
        "    </tr>\n",
        "  </tbody>\n",
        "</table>\n",
        "</div>"
       ],
       "metadata": {},
       "output_type": "pyout",
       "prompt_number": 48,
       "text": [
        "             entry_time            exit_time\n",
        "0   2013-01-01 05:39:00  2013-01-01 11:19:59\n",
        "1   2013-01-01 09:04:00  2013-01-01 12:08:00\n",
        "2   2013-01-01 13:16:00  2013-01-01 14:14:00\n",
        "3   2013-01-01 13:14:00  2013-01-01 15:08:00\n",
        "4   2013-01-01 14:51:00  2013-01-01 15:29:00\n",
        "5   2013-01-01 05:48:00  2013-01-01 16:00:00\n",
        "6   2013-01-01 07:15:00  2013-01-01 16:23:00\n",
        "7   2013-01-01 07:35:00  2013-01-01 16:27:00\n",
        "8   2013-01-01 15:58:00  2013-01-01 16:43:00\n",
        "9   2013-01-01 10:10:00  2013-01-01 16:58:00\n",
        "10  2013-01-01 08:03:00  2013-01-01 17:07:00\n",
        "11  2013-01-01 15:26:00  2013-01-01 17:22:00\n",
        "12  2013-01-01 19:34:00  2013-01-01 20:57:00\n",
        "13  2013-01-01 09:10:00  2013-01-01 21:25:00"
       ]
      }
     ],
     "prompt_number": 48
    },
    {
     "cell_type": "code",
     "collapsed": false,
     "input": [
      "ddata_df.drop([2])"
     ],
     "language": "python",
     "metadata": {},
     "outputs": [
      {
       "html": [
        "<div style=\"max-height:1000px;max-width:1500px;overflow:auto;\">\n",
        "<table border=\"1\" class=\"dataframe\">\n",
        "  <thead>\n",
        "    <tr style=\"text-align: right;\">\n",
        "      <th></th>\n",
        "      <th>entry_time</th>\n",
        "      <th>exit_time</th>\n",
        "    </tr>\n",
        "  </thead>\n",
        "  <tbody>\n",
        "    <tr>\n",
        "      <th>0 </th>\n",
        "      <td> 2013-01-01 05:39:00</td>\n",
        "      <td> 2013-01-01 11:19:59</td>\n",
        "    </tr>\n",
        "    <tr>\n",
        "      <th>1 </th>\n",
        "      <td> 2013-01-01 09:04:00</td>\n",
        "      <td> 2013-01-01 12:08:00</td>\n",
        "    </tr>\n",
        "    <tr>\n",
        "      <th>3 </th>\n",
        "      <td> 2013-01-01 13:14:00</td>\n",
        "      <td> 2013-01-01 15:08:00</td>\n",
        "    </tr>\n",
        "    <tr>\n",
        "      <th>4 </th>\n",
        "      <td> 2013-01-01 14:51:00</td>\n",
        "      <td> 2013-01-01 15:29:00</td>\n",
        "    </tr>\n",
        "    <tr>\n",
        "      <th>5 </th>\n",
        "      <td> 2013-01-01 05:48:00</td>\n",
        "      <td> 2013-01-01 16:00:00</td>\n",
        "    </tr>\n",
        "    <tr>\n",
        "      <th>6 </th>\n",
        "      <td> 2013-01-01 07:15:00</td>\n",
        "      <td> 2013-01-01 16:23:00</td>\n",
        "    </tr>\n",
        "    <tr>\n",
        "      <th>7 </th>\n",
        "      <td> 2013-01-01 07:35:00</td>\n",
        "      <td> 2013-01-01 16:27:00</td>\n",
        "    </tr>\n",
        "    <tr>\n",
        "      <th>8 </th>\n",
        "      <td> 2013-01-01 15:58:00</td>\n",
        "      <td> 2013-01-01 16:43:00</td>\n",
        "    </tr>\n",
        "    <tr>\n",
        "      <th>9 </th>\n",
        "      <td> 2013-01-01 10:10:00</td>\n",
        "      <td> 2013-01-01 16:58:00</td>\n",
        "    </tr>\n",
        "    <tr>\n",
        "      <th>10</th>\n",
        "      <td> 2013-01-01 08:03:00</td>\n",
        "      <td> 2013-01-01 17:07:00</td>\n",
        "    </tr>\n",
        "    <tr>\n",
        "      <th>11</th>\n",
        "      <td> 2013-01-01 15:26:00</td>\n",
        "      <td> 2013-01-01 17:22:00</td>\n",
        "    </tr>\n",
        "    <tr>\n",
        "      <th>12</th>\n",
        "      <td> 2013-01-01 19:34:00</td>\n",
        "      <td> 2013-01-01 20:57:00</td>\n",
        "    </tr>\n",
        "    <tr>\n",
        "      <th>13</th>\n",
        "      <td> 2013-01-01 09:10:00</td>\n",
        "      <td> 2013-01-01 21:25:00</td>\n",
        "    </tr>\n",
        "  </tbody>\n",
        "</table>\n",
        "</div>"
       ],
       "metadata": {},
       "output_type": "pyout",
       "prompt_number": 51,
       "text": [
        "             entry_time            exit_time\n",
        "0   2013-01-01 05:39:00  2013-01-01 11:19:59\n",
        "1   2013-01-01 09:04:00  2013-01-01 12:08:00\n",
        "3   2013-01-01 13:14:00  2013-01-01 15:08:00\n",
        "4   2013-01-01 14:51:00  2013-01-01 15:29:00\n",
        "5   2013-01-01 05:48:00  2013-01-01 16:00:00\n",
        "6   2013-01-01 07:15:00  2013-01-01 16:23:00\n",
        "7   2013-01-01 07:35:00  2013-01-01 16:27:00\n",
        "8   2013-01-01 15:58:00  2013-01-01 16:43:00\n",
        "9   2013-01-01 10:10:00  2013-01-01 16:58:00\n",
        "10  2013-01-01 08:03:00  2013-01-01 17:07:00\n",
        "11  2013-01-01 15:26:00  2013-01-01 17:22:00\n",
        "12  2013-01-01 19:34:00  2013-01-01 20:57:00\n",
        "13  2013-01-01 09:10:00  2013-01-01 21:25:00"
       ]
      }
     ],
     "prompt_number": 51
    },
    {
     "cell_type": "code",
     "collapsed": false,
     "input": [
      "entry"
     ],
     "language": "python",
     "metadata": {},
     "outputs": [
      {
       "metadata": {},
       "output_type": "pyout",
       "prompt_number": 52,
       "text": [
        "0    2013-01-01 05:39:00\n",
        "1    2013-01-01 09:04:00\n",
        "2    2013-01-01 13:16:00\n",
        "3    2013-01-01 13:14:00\n",
        "4    2013-01-01 14:51:00\n",
        "5    2013-01-01 05:48:00\n",
        "6    2013-01-01 07:15:00\n",
        "7    2013-01-01 07:35:00\n",
        "8    2013-01-01 15:58:00\n",
        "9    2013-01-01 10:10:00\n",
        "10   2013-01-01 08:03:00\n",
        "11   2013-01-01 15:26:00\n",
        "12   2013-01-01 19:34:00\n",
        "13   2013-01-01 09:10:00\n",
        "14   2013-01-02 06:26:00\n",
        "...\n",
        "1647726   2016-01-31 19:22:12\n",
        "1647727   2016-01-31 11:39:28\n",
        "1647728   2016-01-31 11:25:49\n",
        "1647729   2016-01-31 18:00:39\n",
        "1647730   2016-01-31 17:24:44\n",
        "1647731   2016-01-31 17:28:27\n",
        "1647732   2016-01-31 21:30:25\n",
        "1647733   2016-01-31 19:48:10\n",
        "1647734   2016-01-31 14:39:24\n",
        "1647735   2016-01-31 18:31:45\n",
        "1647736   2016-01-31 21:40:45\n",
        "1647737   2016-01-31 14:01:50\n",
        "1647738   2016-01-29 04:30:51\n",
        "1647739   2016-01-31 21:03:59\n",
        "1647740   2016-01-31 17:23:02\n",
        "Name: entry_time, Length: 1647741, dtype: datetime64[ns]"
       ]
      }
     ],
     "prompt_number": 52
    },
    {
     "cell_type": "code",
     "collapsed": false,
     "input": [
      "type(entry)"
     ],
     "language": "python",
     "metadata": {},
     "outputs": [
      {
       "metadata": {},
       "output_type": "pyout",
       "prompt_number": 53,
       "text": [
        "pandas.core.series.Series"
       ]
      }
     ],
     "prompt_number": 53
    },
    {
     "cell_type": "code",
     "collapsed": false,
     "input": [],
     "language": "python",
     "metadata": {},
     "outputs": []
    }
   ],
   "metadata": {}
  }
 ]
}