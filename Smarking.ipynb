{
 "metadata": {
  "name": ""
 },
 "nbformat": 3,
 "nbformat_minor": 0,
 "worksheets": [
  {
   "cells": [
    {
     "cell_type": "code",
     "collapsed": false,
     "input": [
      "import pandas as pd\n",
      "from datetime import datetime, timedelta\n",
      "\n",
      "# data_df = pd.read_csv('transactions.csv')\n",
      "data_df = pd.read_csv('test.csv')\n",
      "# Null check\n",
      "data_df.describe"
     ],
     "language": "python",
     "metadata": {},
     "outputs": [
      {
       "metadata": {},
       "output_type": "pyout",
       "prompt_number": 1,
       "text": [
        "<bound method DataFrame.describe of <class 'pandas.core.frame.DataFrame'>\n",
        "Int64Index: 1647741 entries, 0 to 1647740\n",
        "Data columns (total 2 columns):\n",
        "entry_time    1647741  non-null values\n",
        "exit_time     1647741  non-null values\n",
        "dtypes: object(2)>"
       ]
      }
     ],
     "prompt_number": 1
    },
    {
     "cell_type": "code",
     "collapsed": false,
     "input": [
      "entry = pd.to_datetime(data_df['entry_time'])\n",
      "exit = pd.to_datetime(data_df['exit_time'])\n",
      "n = len(data_df)\n",
      "\n",
      "# Bad data. entry time is later than exit time \n",
      "\n",
      "# 39147 2013-05-23 04:54:00 2013-05-23 01:29:00\n",
      "# 76712 2013-10-03 04:56:00 2013-10-03 00:07:00\n",
      "# 80339 2013-10-16 04:52:00 2013-10-16 00:18:00\n",
      "# 401072 2014-05-29 04:56:00 2014-05-29 02:49:00\n",
      "# 545688 2014-08-12 04:55:00 2014-08-12 02:27:00\n",
      "# 764117 2014-11-23 04:58:00 2014-11-23 02:52:00\n",
      "# 1222079 2015-07-05 04:57:00 2015-07-05 00:37:00\n",
      "# 1492016 2015-11-05 04:57:00 2015-11-05 01:35:00\n",
      "# 1525344 2015-11-20 04:50:00 2015-11-20 00:27:00\n",
      "# 1527518 2015-11-21 04:57:00 2015-11-21 01:14:00\n",
      "# 1543517 2015-12-03 04:59:00 2015-12-03 03:20:00\n",
      "# 1546686 2015-12-04 04:59:00 2015-12-04 01:43:00\n",
      "# 1558642 2015-12-10 04:53:00 2015-12-10 02:04:00\n",
      "# 1617591 2016-01-16 04:59:00 2016-01-16 04:22:00\n",
      "def entry_time_lt_exit_time():\n",
      "    for i in range(n):\n",
      "        if entry[i] > exit[i]:\n",
      "            print i, entry[i], exit[i]\n",
      "# entry_time_lt_exit_time()"
     ],
     "language": "python",
     "metadata": {},
     "outputs": [],
     "prompt_number": 2
    },
    {
     "cell_type": "code",
     "collapsed": false,
     "input": [
      "hourly_data = dict()\n",
      "for i in range(n):\n",
      "    if entry[i] > exit[i]:\n",
      "        continue\n",
      "    else:\n",
      "        while entry[i].date() < exit[i].date() or entry[i].hour < exit[i].hour:\n",
      "            hourly_data[entry[i].date()] = hourly_data.get(entry[i].date(), {})\n",
      "            hourly_data[entry[i].date()][entry[i].hour] = hourly_data[entry[i].date()].get(entry[i].hour, 0) + 1\n",
      "            entry[i] += timedelta(hours=1)\n",
      "        hourly_data[exit[i].date()] = hourly_data.get(exit[i].date(), {})\n",
      "        hourly_data[exit[i].date()][exit[i].hour] = hourly_data[exit[i].date()].get(exit[i].hour, 0) + 1\n",
      "# print hourly_data"
     ],
     "language": "python",
     "metadata": {},
     "outputs": [
      {
       "ename": "KeyboardInterrupt",
       "evalue": "",
       "output_type": "pyerr",
       "traceback": [
        "\u001b[1;31m---------------------------------------------------------------------------\u001b[0m\n\u001b[1;31mKeyboardInterrupt\u001b[0m                         Traceback (most recent call last)",
        "\u001b[1;32m<ipython-input-3-4371067608c0>\u001b[0m in \u001b[0;36m<module>\u001b[1;34m()\u001b[0m\n\u001b[0;32m      1\u001b[0m \u001b[0mhourly_data\u001b[0m \u001b[1;33m=\u001b[0m \u001b[0mdict\u001b[0m\u001b[1;33m(\u001b[0m\u001b[1;33m)\u001b[0m\u001b[1;33m\u001b[0m\u001b[0m\n\u001b[0;32m      2\u001b[0m \u001b[1;32mfor\u001b[0m \u001b[0mi\u001b[0m \u001b[1;32min\u001b[0m \u001b[0mrange\u001b[0m\u001b[1;33m(\u001b[0m\u001b[0mn\u001b[0m\u001b[1;33m)\u001b[0m\u001b[1;33m:\u001b[0m\u001b[1;33m\u001b[0m\u001b[0m\n\u001b[1;32m----> 3\u001b[1;33m     \u001b[1;32mif\u001b[0m \u001b[0mentry\u001b[0m\u001b[1;33m[\u001b[0m\u001b[0mi\u001b[0m\u001b[1;33m]\u001b[0m \u001b[1;33m>\u001b[0m \u001b[0mexit\u001b[0m\u001b[1;33m[\u001b[0m\u001b[0mi\u001b[0m\u001b[1;33m]\u001b[0m\u001b[1;33m:\u001b[0m\u001b[1;33m\u001b[0m\u001b[0m\n\u001b[0m\u001b[0;32m      4\u001b[0m         \u001b[1;32mcontinue\u001b[0m\u001b[1;33m\u001b[0m\u001b[0m\n\u001b[0;32m      5\u001b[0m     \u001b[1;32melse\u001b[0m\u001b[1;33m:\u001b[0m\u001b[1;33m\u001b[0m\u001b[0m\n",
        "\u001b[1;32m/home/huangf/anaconda/lib/python2.7/site-packages/pandas/core/series.pyc\u001b[0m in \u001b[0;36m__getitem__\u001b[1;34m(self, key)\u001b[0m\n\u001b[0;32m    616\u001b[0m     \u001b[1;32mdef\u001b[0m \u001b[0m__getitem__\u001b[0m\u001b[1;33m(\u001b[0m\u001b[0mself\u001b[0m\u001b[1;33m,\u001b[0m \u001b[0mkey\u001b[0m\u001b[1;33m)\u001b[0m\u001b[1;33m:\u001b[0m\u001b[1;33m\u001b[0m\u001b[0m\n\u001b[0;32m    617\u001b[0m         \u001b[1;32mtry\u001b[0m\u001b[1;33m:\u001b[0m\u001b[1;33m\u001b[0m\u001b[0m\n\u001b[1;32m--> 618\u001b[1;33m             \u001b[1;32mreturn\u001b[0m \u001b[0mself\u001b[0m\u001b[1;33m.\u001b[0m\u001b[0mindex\u001b[0m\u001b[1;33m.\u001b[0m\u001b[0mget_value\u001b[0m\u001b[1;33m(\u001b[0m\u001b[0mself\u001b[0m\u001b[1;33m,\u001b[0m \u001b[0mkey\u001b[0m\u001b[1;33m)\u001b[0m\u001b[1;33m\u001b[0m\u001b[0m\n\u001b[0m\u001b[0;32m    619\u001b[0m         \u001b[1;32mexcept\u001b[0m \u001b[0mInvalidIndexError\u001b[0m\u001b[1;33m:\u001b[0m\u001b[1;33m\u001b[0m\u001b[0m\n\u001b[0;32m    620\u001b[0m             \u001b[1;32mpass\u001b[0m\u001b[1;33m\u001b[0m\u001b[0m\n",
        "\u001b[1;32m/home/huangf/anaconda/lib/python2.7/site-packages/pandas/core/index.pyc\u001b[0m in \u001b[0;36mget_value\u001b[1;34m(self, series, key)\u001b[0m\n\u001b[0;32m    722\u001b[0m         \"\"\"\n\u001b[0;32m    723\u001b[0m         \u001b[1;32mtry\u001b[0m\u001b[1;33m:\u001b[0m\u001b[1;33m\u001b[0m\u001b[0m\n\u001b[1;32m--> 724\u001b[1;33m             \u001b[1;32mreturn\u001b[0m \u001b[0mself\u001b[0m\u001b[1;33m.\u001b[0m\u001b[0m_engine\u001b[0m\u001b[1;33m.\u001b[0m\u001b[0mget_value\u001b[0m\u001b[1;33m(\u001b[0m\u001b[0mseries\u001b[0m\u001b[1;33m,\u001b[0m \u001b[0mkey\u001b[0m\u001b[1;33m)\u001b[0m\u001b[1;33m\u001b[0m\u001b[0m\n\u001b[0m\u001b[0;32m    725\u001b[0m         \u001b[1;32mexcept\u001b[0m \u001b[0mKeyError\u001b[0m\u001b[1;33m,\u001b[0m \u001b[0me1\u001b[0m\u001b[1;33m:\u001b[0m\u001b[1;33m\u001b[0m\u001b[0m\n\u001b[0;32m    726\u001b[0m             \u001b[1;32mif\u001b[0m \u001b[0mlen\u001b[0m\u001b[1;33m(\u001b[0m\u001b[0mself\u001b[0m\u001b[1;33m)\u001b[0m \u001b[1;33m>\u001b[0m \u001b[1;36m0\u001b[0m \u001b[1;32mand\u001b[0m \u001b[0mself\u001b[0m\u001b[1;33m.\u001b[0m\u001b[0minferred_type\u001b[0m \u001b[1;33m==\u001b[0m \u001b[1;34m'integer'\u001b[0m\u001b[1;33m:\u001b[0m\u001b[1;33m\u001b[0m\u001b[0m\n",
        "\u001b[1;31mKeyboardInterrupt\u001b[0m: "
       ]
      }
     ],
     "prompt_number": 3
    },
    {
     "cell_type": "code",
     "collapsed": false,
     "input": [
      "hourly_data = dict((str(key), value) for (key, value) in hourly_data.items())\n"
     ],
     "language": "python",
     "metadata": {},
     "outputs": []
    },
    {
     "cell_type": "code",
     "collapsed": false,
     "input": [
      "import json\n",
      "with open('hourly.json', 'w') as fp:\n",
      "    json.dump(hourly_data, fp)"
     ],
     "language": "python",
     "metadata": {},
     "outputs": []
    }
   ],
   "metadata": {}
  }
 ]
}